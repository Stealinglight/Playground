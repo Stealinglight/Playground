{
 "cells": [
  {
   "cell_type": "markdown",
   "id": "eb54b839-665b-432d-9fa4-e9b73882bbda",
   "metadata": {},
   "source": [
    "## Analyzing Optics Camera Coverage Report"
   ]
  },
  {
   "cell_type": "markdown",
   "id": "06ecb7d3-fc78-417a-8838-7504b2f089fa",
   "metadata": {},
   "source": [
    "[CameraCoverageReport - S3](https://s3.console.aws.amazon.com/s3/buckets/dcss-optics-camera-onboard-progress?region=us-east-1&tab=objects)"
   ]
  },
  {
   "cell_type": "code",
   "execution_count": 1,
   "id": "fdd9f738-fcaf-422f-aa35-0ac8371f2c77",
   "metadata": {
    "tags": []
   },
   "outputs": [],
   "source": [
    "import re\n",
    "import pandas as pd\n",
    "from pandas import DataFrame as Data\n",
    "from IPython.display import display, Markdown, HTML\n",
    "from Data.NTE_Sites_Data import NTE_Sites, NTE_BMN_sites, ACE_EPOP_Sites, NTE_EPOP"
   ]
  },
  {
   "cell_type": "code",
   "execution_count": 2,
   "id": "5303115f",
   "metadata": {},
   "outputs": [],
   "source": [
    "new_csv = input(\"Enter the path to the csv file: \")\n",
    "data = pd.read_csv(new_csv, low_memory=False)"
   ]
  },
  {
   "cell_type": "code",
   "execution_count": 3,
   "id": "d2b97e01",
   "metadata": {},
   "outputs": [],
   "source": [
    "data[\"Lenel:Name\"] = data[\"Lenel:Name\"].fillna(\"\")\n",
    "data.loc[\n",
    "    data[\"Lenel:Name\"].str.startswith(\"uc_\"), \"Post Deployment Status\"\n",
    "] = \"UNDER_CONSTRUCTION\"\n",
    "data[\"Lenel:Name\"] = data[\"Lenel:Name\"].apply(\n",
    "    lambda x: x.replace(\"uc_\", \"\") if x.startswith(\"uc_\") else x\n",
    ")"
   ]
  },
  {
   "attachments": {},
   "cell_type": "markdown",
   "id": "57e62a7f",
   "metadata": {},
   "source": [
    "**Cameras in Lenel vs Optics**"
   ]
  },
  {
   "cell_type": "code",
   "execution_count": 4,
   "id": "7c2c253d-1fe9-40f8-863a-b9e99b306bde",
   "metadata": {
    "tags": []
   },
   "outputs": [],
   "source": [
    "O = Data(data, columns=['In Optics'])\n",
    "L = Data(data, columns=['In Lenel'])\n",
    "non_exclusive = data[(data['Network'] != 'DSN') & (data['In Optics'] == 'Y')]\n",
    "camInOptics = len(non_exclusive)\n",
    "LenNoOptics = (O == 'N')"
   ]
  },
  {
   "attachments": {},
   "cell_type": "markdown",
   "id": "013c56d7",
   "metadata": {},
   "source": [
    "**NTE Cameras**"
   ]
  },
  {
   "cell_type": "code",
   "execution_count": 5,
   "id": "08d68590",
   "metadata": {},
   "outputs": [],
   "source": [
    "data[\"Site Code\"] = data[\"Lenel:Name\"].str.extract(r'([A-Z]{3}\\d{1,3})', expand=False)\n",
    "data[\"NTE\"] = data[\"Site Code\"].isin(NTE_EPOP)\n",
    "Lenel = data.loc[(data[\"In Optics\"] == \"N\") & (data[\"Lenel:Name\"].notnull())]\n",
    "LenelnoE = Lenel[~Lenel['Site Code'].isin(NTE_EPOP)]\n",
    "Lenel_UC = Lenel.loc[Lenel[\"Post Deployment Status\"] == \"UNDER_CONSTRUCTION\", \"Lenel:Name\"].count()\n",
    "NTEtot = data[data['Site Code'].isin(NTE_EPOP)]\n",
    "NTE_UC = NTEtot[NTEtot['Post Deployment Status'] == 'UNDER_CONSTRUCTION']"
   ]
  },
  {
   "cell_type": "code",
   "execution_count": 6,
   "id": "f5e5e81e-ac62-4732-8500-25b85c027710",
   "metadata": {
    "tags": []
   },
   "outputs": [
    {
     "data": {
      "text/markdown": [
       "# Optics Report Summary"
      ],
      "text/plain": [
       "<IPython.core.display.Markdown object>"
      ]
     },
     "metadata": {},
     "output_type": "display_data"
    },
    {
     "data": {
      "text/markdown": [
       "**Total cameras in Optics (DSN excluded): <span style=\"color:green\">97077**</span>"
      ],
      "text/plain": [
       "<IPython.core.display.Markdown object>"
      ]
     },
     "metadata": {},
     "output_type": "display_data"
    },
    {
     "data": {
      "text/markdown": [
       "**Cameras currently in Lenel, but not Optics: <span style=\"color:green\">6843**</span>"
      ],
      "text/plain": [
       "<IPython.core.display.Markdown object>"
      ]
     },
     "metadata": {},
     "output_type": "display_data"
    },
    {
     "data": {
      "text/markdown": [
       "**Total non-NTE Cameras in Lenel, but not Optics: <span style=\"color:green\">3262**</span>"
      ],
      "text/plain": [
       "<IPython.core.display.Markdown object>"
      ]
     },
     "metadata": {},
     "output_type": "display_data"
    },
    {
     "data": {
      "text/markdown": [
       "**Number of non-NTE cameras in \"UC\" status: <span style=\"color:green\">1802**</span>"
      ],
      "text/plain": [
       "<IPython.core.display.Markdown object>"
      ]
     },
     "metadata": {},
     "output_type": "display_data"
    },
    {
     "data": {
      "text/markdown": [
       "**Total NTE Cameras in Lenel, but not Optics: <span style=\"color:green\">4907</span>**"
      ],
      "text/plain": [
       "<IPython.core.display.Markdown object>"
      ]
     },
     "metadata": {},
     "output_type": "display_data"
    },
    {
     "data": {
      "text/markdown": [
       "**Number of NTE Cameras in \"UC\" status: <span style=\"color:green\">95**</span>"
      ],
      "text/plain": [
       "<IPython.core.display.Markdown object>"
      ]
     },
     "metadata": {},
     "output_type": "display_data"
    }
   ],
   "source": [
    "display(Markdown('# Optics Report Summary'))\n",
    "display(Markdown(f'**Total cameras in Optics (DSN excluded): <span style=\"color:green\">{camInOptics}**</span>'))\n",
    "display(Markdown(f'**Cameras currently in Lenel, but not Optics: <span style=\"color:green\">{LenNoOptics.sum().item()}**</span>'))\n",
    "display(Markdown(f'**Total non-NTE Cameras in Lenel, but not Optics: <span style=\"color:green\">{LenelnoE[\"Lenel:Name\"].count()}**</span>'))\n",
    "display(Markdown(f'**Number of non-NTE cameras in \"UC\" status: <span style=\"color:green\">{Lenel_UC}**</span>'))\n",
    "display(Markdown(f'**Total NTE Cameras in Lenel, but not Optics: <span style=\"color:green\">{NTEtot[\"Lenel:Name\"].count()}</span>**'))\n",
    "display(Markdown(f'**Number of NTE Cameras in \"UC\" status: <span style=\"color:green\">{NTE_UC.shape[0]}**</span>'))"
   ]
  }
 ],
 "metadata": {
  "kernelspec": {
   "display_name": "Python 3 (ipykernel)",
   "language": "python",
   "name": "python3"
  },
  "language_info": {
   "codemirror_mode": {
    "name": "ipython",
    "version": 3
   },
   "file_extension": ".py",
   "mimetype": "text/x-python",
   "name": "python",
   "nbconvert_exporter": "python",
   "pygments_lexer": "ipython3",
   "version": "3.10.9"
  },
  "toc-autonumbering": false,
  "toc-showcode": false
 },
 "nbformat": 4,
 "nbformat_minor": 5
}
