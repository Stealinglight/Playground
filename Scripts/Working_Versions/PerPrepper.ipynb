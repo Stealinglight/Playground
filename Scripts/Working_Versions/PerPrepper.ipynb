{
 "cells": [
  {
   "cell_type": "markdown",
   "metadata": {
    "deletable": false,
    "editable": false,
    "tags": []
   },
   "source": [
    "## Prepping Alias list for pasting into permissions\n",
    "1. Copy the list of aliases from the \"Alias\" column of the CSV\n",
    "2. Click the ⏩ button above and paste into text box below\n",
    "3. Then hit enter\n",
    "4. Now you'll have the list of Alias in the format needed for permissions"
   ]
  },
  {
   "cell_type": "code",
   "execution_count": 1,
   "metadata": {
    "deletable": false,
    "editable": false,
    "tags": []
   },
   "outputs": [
    {
     "name": "stdout",
     "output_type": "stream",
     "text": [
      "@dabdikar, , , @nantdari, , , @unnivi, , , "
     ]
    }
   ],
   "source": [
    "from IPython.display import display, Markdown\n",
    "\n",
    "ali = input('Paste alias here: ')\n",
    "ali = ' '.join(ali.split())\n",
    "aliases_single_space = ali.split(' ')\n",
    "aliases_comma_separated = ', '.join(aliases_single_space)\n",
    "aliases_single_space_str = ' '.join(aliases_single_space)\n",
    "display(Markdown(f\"### Aliases with single space separation:\\n\\n{aliases_single_space_str}\"))\n",
    "display(Markdown(f\"### Aliases with comma space separation:\\n\\n{aliases_comma_separated}\"))"
   ]
  }
 ],
 "metadata": {
  "is_golden": true,
  "kernelspec": {
   "display_name": "Python 3 (ipykernel)",
   "language": "python",
   "name": "python3"
  },
  "language_info": {
   "codemirror_mode": {
    "name": "ipython",
    "version": 3
   },
   "file_extension": ".py",
   "mimetype": "text/x-python",
   "name": "python",
   "nbconvert_exporter": "python",
   "pygments_lexer": "ipython3",
   "version": "3.9.6"
  }
 },
 "nbformat": 4,
 "nbformat_minor": 4
}
