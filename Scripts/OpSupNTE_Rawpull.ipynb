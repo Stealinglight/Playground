{
 "cells": [
  {
   "cell_type": "code",
   "execution_count": null,
   "metadata": {},
   "outputs": [],
   "source": [
    "import pandas as pd\n",
    "import os\n",
    "import re\n",
    "from Secrets.NTE_BMN_sites import sites"
   ]
  },
  {
   "cell_type": "code",
   "execution_count": null,
   "metadata": {},
   "outputs": [],
   "source": [
    "file = input(\"Enter the name of the file: \")"
   ]
  },
  {
   "cell_type": "code",
   "execution_count": null,
   "metadata": {},
   "outputs": [],
   "source": [
    "# Read the CSV file into a dataframe\n",
    "df = pd.read_csv(file)"
   ]
  },
  {
   "cell_type": "code",
   "execution_count": null,
   "metadata": {},
   "outputs": [],
   "source": [
    "df = df.rename(columns={'Name': 'Camera Name', 'SITE': 'Building', 'IP': 'IP Address'})\n",
    "df = df[['Camera Name', 'Building', 'IP Address']]\n"
   ]
  },
  {
   "attachments": {},
   "cell_type": "markdown",
   "metadata": {},
   "source": [
    "#### Checking Column Names for Accuracy"
   ]
  },
  {
   "cell_type": "code",
   "execution_count": null,
   "metadata": {},
   "outputs": [],
   "source": [
    "correct_cols = [\n",
    "    \"Camera Name\",\n",
    "    \"IP Address\",\n",
    "    \"Post Deployment Status\",\n",
    "    \"Network Fabric\",\n",
    "    \"Building\",\n",
    "    \"Platform\",\n",
    "]\n",
    "\n",
    "current_cols = df.columns.tolist()\n",
    "\n",
    "# Loop through the current columns\n",
    "for col in current_cols:\n",
    "    # Check if the column name is in the correct names list\n",
    "    if col in correct_cols:\n",
    "        continue\n",
    "    # Check if a similar named column exists in the correct names list\n",
    "    for correct_col in correct_cols:\n",
    "        if col.lower() == correct_col.lower():\n",
    "            df.rename(columns={col: correct_col}, inplace=True)\n",
    "            break\n"
   ]
  },
  {
   "attachments": {},
   "cell_type": "markdown",
   "metadata": {},
   "source": [
    "#### Checks if Building is present then puts in the correct name"
   ]
  },
  {
   "cell_type": "code",
   "execution_count": null,
   "metadata": {},
   "outputs": [],
   "source": [
    "df[\"Building\"] = df[\"Building\"].fillna(df[\"Camera Name\"].str.extract(r\"([A-Z]{3}\\d{1,3})\", expand=False))"
   ]
  },
  {
   "attachments": {},
   "cell_type": "markdown",
   "metadata": {},
   "source": [
    "#### converting uc_ to \"UNDER_CONSTRUCTION\" in Camera Names column"
   ]
  },
  {
   "cell_type": "code",
   "execution_count": null,
   "metadata": {},
   "outputs": [],
   "source": [
    "df.loc[\n",
    "    df[\"Camera Name\"].str.startswith(\"uc_\"), \"Post Deployment Status\"\n",
    "] = \"UNDER_CONSTRUCTION\""
   ]
  },
  {
   "cell_type": "code",
   "execution_count": null,
   "metadata": {},
   "outputs": [],
   "source": [
    "df[\"Camera Name\"] = df[\"Camera Name\"].apply(\n",
    "    lambda x: x.replace(\"uc_\", \"\") if x.startswith(\"uc_\") else x\n",
    ")"
   ]
  },
  {
   "cell_type": "code",
   "execution_count": null,
   "metadata": {},
   "outputs": [],
   "source": [
    "if 'Platform' not in df.columns:\n",
    "    df['Platform'] = 'CVR'\n",
    "else:\n",
    "    df.loc[df.notna().any(axis=1), 'Platform'] = 'CVR'\n"
   ]
  },
  {
   "attachments": {},
   "cell_type": "markdown",
   "metadata": {},
   "source": [
    "#### Clean up the Camera Names column to remove special characters"
   ]
  },
  {
   "cell_type": "code",
   "execution_count": null,
   "metadata": {},
   "outputs": [],
   "source": [
    "name_rules = r'[^A-Za-z0-9_\\-\\.]'\n",
    "\n",
    "df['Camera Name'] = df['Camera Name'].str.replace(name_rules, '', regex=True)\n",
    "df['Camera Name'] = df['Camera Name'].str[:64]"
   ]
  },
  {
   "attachments": {},
   "cell_type": "markdown",
   "metadata": {},
   "source": [
    "#### Keeping only the BMN sites IPs"
   ]
  },
  {
   "cell_type": "code",
   "execution_count": null,
   "metadata": {},
   "outputs": [],
   "source": [
    "df = df[df['Building'].isin(sites)]\n",
    "df = df[df[\"IP Address\"].str.startswith(\"10.\")]\n",
    "df = df.drop(df[~df[\"IP Address\"].str.startswith(\"10.\")].index)\n"
   ]
  },
  {
   "attachments": {},
   "cell_type": "markdown",
   "metadata": {},
   "source": [
    "#### Gets rid of white spaces in the data"
   ]
  },
  {
   "cell_type": "code",
   "execution_count": null,
   "metadata": {},
   "outputs": [],
   "source": [
    "df = df.applymap(lambda x: x.strip() if isinstance(x, str) else x)"
   ]
  },
  {
   "attachments": {},
   "cell_type": "markdown",
   "metadata": {},
   "source": [
    "#### Groups Clusters out of Raw Data sheet"
   ]
  },
  {
   "cell_type": "code",
   "execution_count": null,
   "metadata": {},
   "outputs": [],
   "source": [
    "for building_code in df['Building'].str.slice(stop=3).unique():\n",
    "    \n",
    "    building_df = df[df['Building'].str.slice(stop=3) == building_code]\n",
    "    filename = f'{building_code} NTE Cameras.csv'\n",
    "    building_df.to_csv(filename, index=False)"
   ]
  },
  {
   "cell_type": "code",
   "execution_count": null,
   "metadata": {},
   "outputs": [],
   "source": [
    "df.head()"
   ]
  }
 ],
 "metadata": {
  "kernelspec": {
   "display_name": "base",
   "language": "python",
   "name": "python3"
  },
  "language_info": {
   "codemirror_mode": {
    "name": "ipython",
    "version": 3
   },
   "file_extension": ".py",
   "mimetype": "text/x-python",
   "name": "python",
   "nbconvert_exporter": "python",
   "pygments_lexer": "ipython3",
   "version": "3.9.13"
  },
  "orig_nbformat": 4,
  "vscode": {
   "interpreter": {
    "hash": "b5686de6aa28f6fb9529b3d106925ec7bc29e0ff45fdf3f53153be86e61240fa"
   }
  }
 },
 "nbformat": 4,
 "nbformat_minor": 2
}
