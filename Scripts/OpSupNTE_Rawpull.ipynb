{
 "cells": [
  {
   "cell_type": "code",
   "execution_count": 1,
   "metadata": {},
   "outputs": [],
   "source": [
    "import pandas as pd\n",
    "import os\n",
    "import re\n",
    "from Secrets.NTE_BMN_sites import sites"
   ]
  },
  {
   "cell_type": "code",
   "execution_count": 2,
   "metadata": {},
   "outputs": [],
   "source": [
    "file = input(\"Enter the name of the file: \")"
   ]
  },
  {
   "cell_type": "code",
   "execution_count": 3,
   "metadata": {},
   "outputs": [],
   "source": [
    "# Read the CSV file into a dataframe\n",
    "df = pd.read_csv(file)"
   ]
  },
  {
   "cell_type": "code",
   "execution_count": 4,
   "metadata": {},
   "outputs": [],
   "source": [
    "df = df.rename(columns={'Name': 'Camera Name', 'SITE': 'Building', 'IP': 'IP Address'})\n",
    "df = df[['Camera Name', 'Building', 'IP Address']]\n"
   ]
  },
  {
   "attachments": {},
   "cell_type": "markdown",
   "metadata": {},
   "source": [
    "#### Checking Column Names for Accuracy"
   ]
  },
  {
   "cell_type": "code",
   "execution_count": 5,
   "metadata": {},
   "outputs": [],
   "source": [
    "correct_cols = [\n",
    "    \"Camera Name\",\n",
    "    \"IP Address\",\n",
    "    \"Post Deployment Status\",\n",
    "    \"Network Fabric\",\n",
    "    \"Building\",\n",
    "    \"Platform\",\n",
    "]\n",
    "\n",
    "current_cols = df.columns.tolist()\n",
    "\n",
    "# Loop through the current columns\n",
    "for col in current_cols:\n",
    "    # Check if the column name is in the correct names list\n",
    "    if col in correct_cols:\n",
    "        continue\n",
    "    # Check if a similar named column exists in the correct names list\n",
    "    for correct_col in correct_cols:\n",
    "        if col.lower() == correct_col.lower():\n",
    "            df.rename(columns={col: correct_col}, inplace=True)\n",
    "            break\n"
   ]
  },
  {
   "attachments": {},
   "cell_type": "markdown",
   "metadata": {},
   "source": [
    "#### Checks if Building is present then puts in the correct name"
   ]
  },
  {
   "cell_type": "code",
   "execution_count": 6,
   "metadata": {},
   "outputs": [],
   "source": [
    "df[\"Building\"] = df[\"Building\"].fillna(df[\"Camera Name\"].str.extract(r\"([A-Z]{3}\\d{1,3})\", expand=False))"
   ]
  },
  {
   "attachments": {},
   "cell_type": "markdown",
   "metadata": {},
   "source": [
    "#### converting uc_ to \"UNDER_CONSTRUCTION\" in Camera Names column"
   ]
  },
  {
   "cell_type": "code",
   "execution_count": 7,
   "metadata": {},
   "outputs": [],
   "source": [
    "df.loc[\n",
    "    df[\"Camera Name\"].str.startswith(\"uc_\"), \"Post Deployment Status\"\n",
    "] = \"UNDER_CONSTRUCTION\""
   ]
  },
  {
   "cell_type": "code",
   "execution_count": 8,
   "metadata": {},
   "outputs": [],
   "source": [
    "df[\"Camera Name\"] = df[\"Camera Name\"].apply(\n",
    "    lambda x: x.replace(\"uc_\", \"\") if x.startswith(\"uc_\") else x\n",
    ")"
   ]
  },
  {
   "cell_type": "code",
   "execution_count": 9,
   "metadata": {},
   "outputs": [],
   "source": [
    "if 'Platform' not in df.columns:\n",
    "    df['Platform'] = 'CVR'\n",
    "else:\n",
    "    df.loc[df.notna().any(axis=1), 'Platform'] = 'CVR'\n"
   ]
  },
  {
   "attachments": {},
   "cell_type": "markdown",
   "metadata": {},
   "source": [
    "#### Clean up the Camera Names column to remove special characters"
   ]
  },
  {
   "cell_type": "code",
   "execution_count": 10,
   "metadata": {},
   "outputs": [],
   "source": [
    "name_rules = r'[^A-Za-z0-9_\\-\\.]'\n",
    "\n",
    "df['Camera Name'] = df['Camera Name'].str.replace(name_rules, '', regex=True)\n",
    "df['Camera Name'] = df['Camera Name'].str[:64]"
   ]
  },
  {
   "attachments": {},
   "cell_type": "markdown",
   "metadata": {},
   "source": [
    "#### Keeping only the BMN sites IPs"
   ]
  },
  {
   "cell_type": "code",
   "execution_count": 11,
   "metadata": {},
   "outputs": [],
   "source": [
    "df = df[df['Building'].isin(sites)]\n",
    "df = df[df[\"IP Address\"].str.startswith(\"10.\")]\n",
    "df = df.drop(df[~df[\"IP Address\"].str.startswith(\"10.\")].index)\n"
   ]
  },
  {
   "attachments": {},
   "cell_type": "markdown",
   "metadata": {},
   "source": [
    "#### Gets rid of white spaces in the data"
   ]
  },
  {
   "cell_type": "code",
   "execution_count": 12,
   "metadata": {},
   "outputs": [],
   "source": [
    "df = df.applymap(lambda x: x.strip() if isinstance(x, str) else x)"
   ]
  },
  {
   "attachments": {},
   "cell_type": "markdown",
   "metadata": {},
   "source": [
    "#### Groups Clusters out of Raw Data sheet"
   ]
  },
  {
   "cell_type": "code",
   "execution_count": 13,
   "metadata": {},
   "outputs": [],
   "source": [
    "for building_code in df['Building'].str.slice(stop=3).unique():\n",
    "    \n",
    "    building_df = df[df['Building'].str.slice(stop=3) == building_code]\n",
    "    filename = f'{building_code} NTE Cameras.csv'\n",
    "    building_df.to_csv(filename, index=False)"
   ]
  },
  {
   "cell_type": "code",
   "execution_count": 14,
   "metadata": {},
   "outputs": [
    {
     "data": {
      "text/html": [
       "<div>\n",
       "<style scoped>\n",
       "    .dataframe tbody tr th:only-of-type {\n",
       "        vertical-align: middle;\n",
       "    }\n",
       "\n",
       "    .dataframe tbody tr th {\n",
       "        vertical-align: top;\n",
       "    }\n",
       "\n",
       "    .dataframe thead th {\n",
       "        text-align: right;\n",
       "    }\n",
       "</style>\n",
       "<table border=\"1\" class=\"dataframe\">\n",
       "  <thead>\n",
       "    <tr style=\"text-align: right;\">\n",
       "      <th></th>\n",
       "      <th>Camera Name</th>\n",
       "      <th>Building</th>\n",
       "      <th>IP Address</th>\n",
       "      <th>Post Deployment Status</th>\n",
       "      <th>Platform</th>\n",
       "    </tr>\n",
       "  </thead>\n",
       "  <tbody>\n",
       "    <tr>\n",
       "      <th>0</th>\n",
       "      <td>ATL50-RZN-C01-CAGE01-C0111H-W</td>\n",
       "      <td>ATL50</td>\n",
       "      <td>10.105.233.133</td>\n",
       "      <td>NaN</td>\n",
       "      <td>CVR</td>\n",
       "    </tr>\n",
       "    <tr>\n",
       "      <th>1</th>\n",
       "      <td>ATL50-RZN-C02-CAGE01-C0504H-W</td>\n",
       "      <td>ATL50</td>\n",
       "      <td>10.105.233.144</td>\n",
       "      <td>NaN</td>\n",
       "      <td>CVR</td>\n",
       "    </tr>\n",
       "    <tr>\n",
       "      <th>2</th>\n",
       "      <td>ATL50-RZN-C03-CAGE01-C0803H-NW</td>\n",
       "      <td>ATL50</td>\n",
       "      <td>10.105.233.147</td>\n",
       "      <td>NaN</td>\n",
       "      <td>CVR</td>\n",
       "    </tr>\n",
       "    <tr>\n",
       "      <th>3</th>\n",
       "      <td>ATL50-RZN-C04-CAGE01-C0903-H-NW</td>\n",
       "      <td>ATL50</td>\n",
       "      <td>10.105.233.143</td>\n",
       "      <td>NaN</td>\n",
       "      <td>CVR</td>\n",
       "    </tr>\n",
       "    <tr>\n",
       "      <th>4</th>\n",
       "      <td>ATL50-RZN-C05-CAGE01-C0901H-NE</td>\n",
       "      <td>ATL50</td>\n",
       "      <td>10.105.233.140</td>\n",
       "      <td>NaN</td>\n",
       "      <td>CVR</td>\n",
       "    </tr>\n",
       "  </tbody>\n",
       "</table>\n",
       "</div>"
      ],
      "text/plain": [
       "                       Camera Name Building      IP Address  \\\n",
       "0    ATL50-RZN-C01-CAGE01-C0111H-W    ATL50  10.105.233.133   \n",
       "1    ATL50-RZN-C02-CAGE01-C0504H-W    ATL50  10.105.233.144   \n",
       "2   ATL50-RZN-C03-CAGE01-C0803H-NW    ATL50  10.105.233.147   \n",
       "3  ATL50-RZN-C04-CAGE01-C0903-H-NW    ATL50  10.105.233.143   \n",
       "4   ATL50-RZN-C05-CAGE01-C0901H-NE    ATL50  10.105.233.140   \n",
       "\n",
       "  Post Deployment Status Platform  \n",
       "0                    NaN      CVR  \n",
       "1                    NaN      CVR  \n",
       "2                    NaN      CVR  \n",
       "3                    NaN      CVR  \n",
       "4                    NaN      CVR  "
      ]
     },
     "execution_count": 14,
     "metadata": {},
     "output_type": "execute_result"
    }
   ],
   "source": [
    "df.head()"
   ]
  }
 ],
 "metadata": {
  "kernelspec": {
   "display_name": "base",
   "language": "python",
   "name": "python3"
  },
  "language_info": {
   "codemirror_mode": {
    "name": "ipython",
    "version": 3
   },
   "file_extension": ".py",
   "mimetype": "text/x-python",
   "name": "python",
   "nbconvert_exporter": "python",
   "pygments_lexer": "ipython3",
   "version": "3.9.13"
  },
  "orig_nbformat": 4,
  "vscode": {
   "interpreter": {
    "hash": "b5686de6aa28f6fb9529b3d106925ec7bc29e0ff45fdf3f53153be86e61240fa"
   }
  }
 },
 "nbformat": 4,
 "nbformat_minor": 2
}
