{
 "cells": [
  {
   "cell_type": "code",
   "execution_count": 2,
   "metadata": {},
   "outputs": [],
   "source": [
    "import pandas as pd"
   ]
  },
  {
   "cell_type": "code",
   "execution_count": 3,
   "metadata": {},
   "outputs": [],
   "source": [
    "file = input(\"Enter the name of the file: \")"
   ]
  },
  {
   "cell_type": "code",
   "execution_count": 9,
   "metadata": {},
   "outputs": [],
   "source": [
    "# Read the CSV file into a dataframe\n",
    "df = pd.read_csv(file)"
   ]
  },
  {
   "attachments": {},
   "cell_type": "markdown",
   "metadata": {},
   "source": [
    "#### converting uc_ to \"UNDER_CONSTRUCTION\" in Camera Names column"
   ]
  },
  {
   "cell_type": "code",
   "execution_count": 10,
   "metadata": {},
   "outputs": [],
   "source": [
    "df.loc[\n",
    "    df[\"Camera Name\"].str.startswith(\"uc_\"), \"Post Deployment Status\"\n",
    "] = \"UNDER_CONSTRUCTION\""
   ]
  },
  {
   "cell_type": "code",
   "execution_count": 12,
   "metadata": {},
   "outputs": [],
   "source": [
    "df[\"Camera Name\"] = df[\"Camera Name\"].apply(\n",
    "    lambda x: x.replace(\"uc_\", \"\") if x.startswith(\"uc_\") else x\n",
    ")"
   ]
  },
  {
   "cell_type": "code",
   "execution_count": 11,
   "metadata": {},
   "outputs": [
    {
     "data": {
      "text/html": [
       "<div>\n",
       "<style scoped>\n",
       "    .dataframe tbody tr th:only-of-type {\n",
       "        vertical-align: middle;\n",
       "    }\n",
       "\n",
       "    .dataframe tbody tr th {\n",
       "        vertical-align: top;\n",
       "    }\n",
       "\n",
       "    .dataframe thead th {\n",
       "        text-align: right;\n",
       "    }\n",
       "</style>\n",
       "<table border=\"1\" class=\"dataframe\">\n",
       "  <thead>\n",
       "    <tr style=\"text-align: right;\">\n",
       "      <th></th>\n",
       "      <th>Building</th>\n",
       "      <th>IP Address</th>\n",
       "      <th>Camera Name</th>\n",
       "      <th>Post Deployment Status</th>\n",
       "      <th>Network Fabric</th>\n",
       "    </tr>\n",
       "  </thead>\n",
       "  <tbody>\n",
       "    <tr>\n",
       "      <th>0</th>\n",
       "      <td>PDX110</td>\n",
       "      <td>10.207.116.120</td>\n",
       "      <td>uc_-YZN-3001-N DAHU 1.3 TO E</td>\n",
       "      <td>UNDER_CONSTRUCTION</td>\n",
       "      <td>CORP</td>\n",
       "    </tr>\n",
       "    <tr>\n",
       "      <th>1</th>\n",
       "      <td>PDX110</td>\n",
       "      <td>10.207.116.121</td>\n",
       "      <td>uc_PDX110-GZN-3002-EXT XD EE697B N DAHU 1.3 TO N</td>\n",
       "      <td>UNDER_CONSTRUCTION</td>\n",
       "      <td>CORP</td>\n",
       "    </tr>\n",
       "    <tr>\n",
       "      <th>2</th>\n",
       "      <td>PDX110</td>\n",
       "      <td>10.207.116.122</td>\n",
       "      <td>uc_PDX110-YZN-3003-N DAHU 1.3 TO S</td>\n",
       "      <td>UNDER_CONSTRUCTION</td>\n",
       "      <td>CORP</td>\n",
       "    </tr>\n",
       "    <tr>\n",
       "      <th>3</th>\n",
       "      <td>PDX110</td>\n",
       "      <td>10.207.116.123</td>\n",
       "      <td>uc_PDX110-RZN-3004-AC697A N PLNM 1.3 TO N DAHU...</td>\n",
       "      <td>UNDER_CONSTRUCTION</td>\n",
       "      <td>CORP</td>\n",
       "    </tr>\n",
       "    <tr>\n",
       "      <th>4</th>\n",
       "      <td>PDX110</td>\n",
       "      <td>10.207.116.124</td>\n",
       "      <td>uc_PDX110-RZN-3005-DH 1.3 N TO W</td>\n",
       "      <td>UNDER_CONSTRUCTION</td>\n",
       "      <td>CORP</td>\n",
       "    </tr>\n",
       "  </tbody>\n",
       "</table>\n",
       "</div>"
      ],
      "text/plain": [
       "  Building      IP Address                                        Camera Name  \\\n",
       "0   PDX110  10.207.116.120                       uc_-YZN-3001-N DAHU 1.3 TO E   \n",
       "1   PDX110  10.207.116.121   uc_PDX110-GZN-3002-EXT XD EE697B N DAHU 1.3 TO N   \n",
       "2   PDX110  10.207.116.122                 uc_PDX110-YZN-3003-N DAHU 1.3 TO S   \n",
       "3   PDX110  10.207.116.123  uc_PDX110-RZN-3004-AC697A N PLNM 1.3 TO N DAHU...   \n",
       "4   PDX110  10.207.116.124                   uc_PDX110-RZN-3005-DH 1.3 N TO W   \n",
       "\n",
       "  Post Deployment Status Network Fabric  \n",
       "0     UNDER_CONSTRUCTION           CORP  \n",
       "1     UNDER_CONSTRUCTION           CORP  \n",
       "2     UNDER_CONSTRUCTION           CORP  \n",
       "3     UNDER_CONSTRUCTION           CORP  \n",
       "4     UNDER_CONSTRUCTION           CORP  "
      ]
     },
     "execution_count": 11,
     "metadata": {},
     "output_type": "execute_result"
    }
   ],
   "source": [
    "df.head()"
   ]
  }
 ],
 "metadata": {
  "kernelspec": {
   "display_name": "base",
   "language": "python",
   "name": "python3"
  },
  "language_info": {
   "codemirror_mode": {
    "name": "ipython",
    "version": 3
   },
   "file_extension": ".py",
   "mimetype": "text/x-python",
   "name": "python",
   "nbconvert_exporter": "python",
   "pygments_lexer": "ipython3",
   "version": "3.9.13"
  },
  "orig_nbformat": 4,
  "vscode": {
   "interpreter": {
    "hash": "b5686de6aa28f6fb9529b3d106925ec7bc29e0ff45fdf3f53153be86e61240fa"
   }
  }
 },
 "nbformat": 4,
 "nbformat_minor": 2
}
